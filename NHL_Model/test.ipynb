{
 "cells": [
  {
   "cell_type": "code",
   "execution_count": 4,
   "metadata": {},
   "outputs": [],
   "source": [
    "import os\n",
    "import pandas as pd\n",
    "import datetime\n",
    "\n",
    "current_date = pd.Timestamp(datetime.date.today())\n",
    "\n",
    "def calculate_rolling_average(df, columns, window=10):\n",
    "    # Calculate the rolling mean for the specified columns\n",
    "    rolling_df = df[columns].rolling(window=window, min_periods=10).mean()\n",
    "    #hift the rolling mean by 1 to not include the current game's stats in the average\n",
    "    return rolling_df\n",
    "\n",
    "# Base path for the original data\n",
    "base_path = '23_24_Team'\n",
    "df4 = pd.DataFrame()\n",
    "# New top-level folder for averaged data\n",
    "average_data_path = '23_24_test'\n",
    "os.makedirs(average_data_path, exist_ok=True)\n",
    "# Iterate over each year's folder\n",
    "# Iterate over each team's CSV file\n",
    "for team_file in os.listdir(base_path):\n",
    "    if team_file.endswith('.csv'):\n",
    "        team_path = os.path.join(base_path, team_file)\n",
    "        # Read the CSV file\n",
    "        df = pd.read_csv(team_path)\n",
    "\n",
    "        # Select the desired columns and calculate the rolling averages\n",
    "        selected_columns = ['Game', 'Team', 'Date', 'AwayTeam', 'AwayScore', 'HomeTeam', 'HomeScore', 'HomeResult', 'days_of_rest']\n",
    "        other_columns = df.columns.difference(selected_columns)\n",
    "        rolling_df = calculate_rolling_average(df, other_columns)\n",
    "\n",
    "    \n",
    "        # Combine the selected columns with the rolling averages\n",
    "        combined_df = pd.concat([df[selected_columns], rolling_df], axis=1)\n",
    "        cols_to_drop = ['Game','AwayTeam', 'AwayScore', 'HomeTeam', 'HomeScore', 'HomeResult','days_of_rest']\n",
    "       \n",
    "    #drop other unneccesary columns\n",
    "        combined_df.drop(columns=cols_to_drop, inplace=True)\n",
    "        combined_df['Date'] = pd.to_datetime(combined_df['Date'])\n",
    "        combined_df['time_diff']=(current_date-combined_df['Date'])\n",
    "        combined_df['days_of_rest'] = combined_df['time_diff'].dt.days - 1\n",
    "        combined_df.drop('time_diff', axis=1, inplace=True)\n",
    "        days_of_rest_column = combined_df.pop('days_of_rest')\n",
    "\n",
    "        combined_df.insert(2, 'days_of_rest', days_of_rest_column)\n",
    "        last_row_df = combined_df.tail(1)\n",
    "        df4 = pd.concat([df4, last_row_df], ignore_index=True, axis=0)\n",
    "        # Save the new DataFrame as a CSV file in the year-specific folder under 'average_data'\n",
    "\n",
    "#df4.head()\n",
    "df4.to_csv('test.csv', index=False)"
   ]
  },
  {
   "cell_type": "code",
   "execution_count": 3,
   "metadata": {},
   "outputs": [
    {
     "ename": "KeyError",
     "evalue": "'time_diff'",
     "output_type": "error",
     "traceback": [
      "\u001b[1;31m---------------------------------------------------------------------------\u001b[0m",
      "\u001b[1;31mKeyError\u001b[0m                                  Traceback (most recent call last)",
      "File \u001b[1;32m~\\AppData\\Local\\Packages\\PythonSoftwareFoundation.Python.3.11_qbz5n2kfra8p0\\LocalCache\\local-packages\\Python311\\site-packages\\pandas\\core\\indexes\\base.py:3790\u001b[0m, in \u001b[0;36mIndex.get_loc\u001b[1;34m(self, key)\u001b[0m\n\u001b[0;32m   3789\u001b[0m \u001b[39mtry\u001b[39;00m:\n\u001b[1;32m-> 3790\u001b[0m     \u001b[39mreturn\u001b[39;00m \u001b[39mself\u001b[39;49m\u001b[39m.\u001b[39;49m_engine\u001b[39m.\u001b[39;49mget_loc(casted_key)\n\u001b[0;32m   3791\u001b[0m \u001b[39mexcept\u001b[39;00m \u001b[39mKeyError\u001b[39;00m \u001b[39mas\u001b[39;00m err:\n",
      "File \u001b[1;32mindex.pyx:152\u001b[0m, in \u001b[0;36mpandas._libs.index.IndexEngine.get_loc\u001b[1;34m()\u001b[0m\n",
      "File \u001b[1;32mindex.pyx:181\u001b[0m, in \u001b[0;36mpandas._libs.index.IndexEngine.get_loc\u001b[1;34m()\u001b[0m\n",
      "File \u001b[1;32mpandas\\_libs\\hashtable_class_helper.pxi:7080\u001b[0m, in \u001b[0;36mpandas._libs.hashtable.PyObjectHashTable.get_item\u001b[1;34m()\u001b[0m\n",
      "File \u001b[1;32mpandas\\_libs\\hashtable_class_helper.pxi:7088\u001b[0m, in \u001b[0;36mpandas._libs.hashtable.PyObjectHashTable.get_item\u001b[1;34m()\u001b[0m\n",
      "\u001b[1;31mKeyError\u001b[0m: 'time_diff'",
      "\nThe above exception was the direct cause of the following exception:\n",
      "\u001b[1;31mKeyError\u001b[0m                                  Traceback (most recent call last)",
      "\u001b[1;32mc:\\Users\\luken\\Desktop\\NHL_Model\\test.ipynb Cell 2\u001b[0m line \u001b[0;36m7\n\u001b[0;32m      <a href='vscode-notebook-cell:/c%3A/Users/luken/Desktop/NHL_Model/test.ipynb#W1sZmlsZQ%3D%3D?line=3'>4</a>\u001b[0m df4[\u001b[39m'\u001b[39m\u001b[39mtime_diff\u001b[39m\u001b[39m'\u001b[39m] \u001b[39m=\u001b[39m df4[\u001b[39m'\u001b[39m\u001b[39mDate\u001b[39m\u001b[39m'\u001b[39m]\u001b[39m.\u001b[39mdiff()\n\u001b[0;32m      <a href='vscode-notebook-cell:/c%3A/Users/luken/Desktop/NHL_Model/test.ipynb#W1sZmlsZQ%3D%3D?line=5'>6</a>\u001b[0m \u001b[39m# Convert the timedelta object to integer for days of rest\u001b[39;00m\n\u001b[1;32m----> <a href='vscode-notebook-cell:/c%3A/Users/luken/Desktop/NHL_Model/test.ipynb#W1sZmlsZQ%3D%3D?line=6'>7</a>\u001b[0m df[\u001b[39m'\u001b[39m\u001b[39mdays_of_rest\u001b[39m\u001b[39m'\u001b[39m] \u001b[39m=\u001b[39m df[\u001b[39m'\u001b[39;49m\u001b[39mtime_diff\u001b[39;49m\u001b[39m'\u001b[39;49m]\u001b[39m.\u001b[39mdt\u001b[39m.\u001b[39mdays \u001b[39m-\u001b[39m \u001b[39m1\u001b[39m\n\u001b[0;32m      <a href='vscode-notebook-cell:/c%3A/Users/luken/Desktop/NHL_Model/test.ipynb#W1sZmlsZQ%3D%3D?line=7'>8</a>\u001b[0m df\u001b[39m.\u001b[39mdrop(\u001b[39m'\u001b[39m\u001b[39mtime_diff\u001b[39m\u001b[39m'\u001b[39m, axis\u001b[39m=\u001b[39m\u001b[39m1\u001b[39m, inplace\u001b[39m=\u001b[39m\u001b[39mTrue\u001b[39;00m)\n\u001b[0;32m      <a href='vscode-notebook-cell:/c%3A/Users/luken/Desktop/NHL_Model/test.ipynb#W1sZmlsZQ%3D%3D?line=8'>9</a>\u001b[0m days_of_rest_column \u001b[39m=\u001b[39m df\u001b[39m.\u001b[39mpop(\u001b[39m'\u001b[39m\u001b[39mdays_of_rest\u001b[39m\u001b[39m'\u001b[39m)\n",
      "File \u001b[1;32m~\\AppData\\Local\\Packages\\PythonSoftwareFoundation.Python.3.11_qbz5n2kfra8p0\\LocalCache\\local-packages\\Python311\\site-packages\\pandas\\core\\frame.py:3893\u001b[0m, in \u001b[0;36mDataFrame.__getitem__\u001b[1;34m(self, key)\u001b[0m\n\u001b[0;32m   3891\u001b[0m \u001b[39mif\u001b[39;00m \u001b[39mself\u001b[39m\u001b[39m.\u001b[39mcolumns\u001b[39m.\u001b[39mnlevels \u001b[39m>\u001b[39m \u001b[39m1\u001b[39m:\n\u001b[0;32m   3892\u001b[0m     \u001b[39mreturn\u001b[39;00m \u001b[39mself\u001b[39m\u001b[39m.\u001b[39m_getitem_multilevel(key)\n\u001b[1;32m-> 3893\u001b[0m indexer \u001b[39m=\u001b[39m \u001b[39mself\u001b[39;49m\u001b[39m.\u001b[39;49mcolumns\u001b[39m.\u001b[39;49mget_loc(key)\n\u001b[0;32m   3894\u001b[0m \u001b[39mif\u001b[39;00m is_integer(indexer):\n\u001b[0;32m   3895\u001b[0m     indexer \u001b[39m=\u001b[39m [indexer]\n",
      "File \u001b[1;32m~\\AppData\\Local\\Packages\\PythonSoftwareFoundation.Python.3.11_qbz5n2kfra8p0\\LocalCache\\local-packages\\Python311\\site-packages\\pandas\\core\\indexes\\base.py:3797\u001b[0m, in \u001b[0;36mIndex.get_loc\u001b[1;34m(self, key)\u001b[0m\n\u001b[0;32m   3792\u001b[0m     \u001b[39mif\u001b[39;00m \u001b[39misinstance\u001b[39m(casted_key, \u001b[39mslice\u001b[39m) \u001b[39mor\u001b[39;00m (\n\u001b[0;32m   3793\u001b[0m         \u001b[39misinstance\u001b[39m(casted_key, abc\u001b[39m.\u001b[39mIterable)\n\u001b[0;32m   3794\u001b[0m         \u001b[39mand\u001b[39;00m \u001b[39many\u001b[39m(\u001b[39misinstance\u001b[39m(x, \u001b[39mslice\u001b[39m) \u001b[39mfor\u001b[39;00m x \u001b[39min\u001b[39;00m casted_key)\n\u001b[0;32m   3795\u001b[0m     ):\n\u001b[0;32m   3796\u001b[0m         \u001b[39mraise\u001b[39;00m InvalidIndexError(key)\n\u001b[1;32m-> 3797\u001b[0m     \u001b[39mraise\u001b[39;00m \u001b[39mKeyError\u001b[39;00m(key) \u001b[39mfrom\u001b[39;00m \u001b[39merr\u001b[39;00m\n\u001b[0;32m   3798\u001b[0m \u001b[39mexcept\u001b[39;00m \u001b[39mTypeError\u001b[39;00m:\n\u001b[0;32m   3799\u001b[0m     \u001b[39m# If we have a listlike key, _check_indexing_error will raise\u001b[39;00m\n\u001b[0;32m   3800\u001b[0m     \u001b[39m#  InvalidIndexError. Otherwise we fall through and re-raise\u001b[39;00m\n\u001b[0;32m   3801\u001b[0m     \u001b[39m#  the TypeError.\u001b[39;00m\n\u001b[0;32m   3802\u001b[0m     \u001b[39mself\u001b[39m\u001b[39m.\u001b[39m_check_indexing_error(key)\n",
      "\u001b[1;31mKeyError\u001b[0m: 'time_diff'"
     ]
    }
   ],
   "source": [
    "df4['Date'] = pd.to_datetime(df4['Date'])\n",
    "\n",
    "        # Calculate the difference between each game's date\n",
    "df4['time_diff'] = df4['Date'].diff()\n",
    "\n",
    "# Convert the timedelta object to integer for days of rest\n",
    "df['days_of_rest'] = df['time_diff'].dt.days - 1\n",
    "df.drop('time_diff', axis=1, inplace=True)\n",
    "days_of_rest_column = df.pop('days_of_rest')\n",
    "\n",
    "# Reinsert the 'days_of_rest' column into the third position (position 2)\n",
    "df.insert(2, 'days_of_rest', days_of_rest_column)\n"
   ]
  }
 ],
 "metadata": {
  "kernelspec": {
   "display_name": "Python 3",
   "language": "python",
   "name": "python3"
  },
  "language_info": {
   "codemirror_mode": {
    "name": "ipython",
    "version": 3
   },
   "file_extension": ".py",
   "mimetype": "text/x-python",
   "name": "python",
   "nbconvert_exporter": "python",
   "pygments_lexer": "ipython3",
   "version": "3.11.6"
  }
 },
 "nbformat": 4,
 "nbformat_minor": 2
}
