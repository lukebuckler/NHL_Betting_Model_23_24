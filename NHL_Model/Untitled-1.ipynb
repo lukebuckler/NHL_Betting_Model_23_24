{
 "cells": [
  {
   "cell_type": "code",
   "execution_count": 4,
   "metadata": {},
   "outputs": [
    {
     "name": "stdout",
     "output_type": "stream",
     "text": [
      "Data scraped and saved successfully.\n"
     ]
    }
   ],
   "source": [
    "\n",
    "import requests\n",
    "from bs4 import BeautifulSoup\n",
    "import pandas as pd\n",
    "\n",
    "# URL of the website\n",
    "url = \"https://www.sportsbookreview.com/betting-odds/nhl-hockey/\"\n",
    "\n",
    "# Send a GET request\n",
    "response = requests.get(url)\n",
    "\n",
    "# Check if the request was successful\n",
    "if response.status_code == 200:\n",
    "    # Parse the HTML content\n",
    "    soup = BeautifulSoup(response.content, 'html.parser')\n",
    "\n",
    "    # Find elements containing betting odds\n",
    "    # NOTE: You need to inspect the webpage to identify the correct HTML elements and classes.\n",
    "    odds_elements = soup.find_all('div', class_=\"OddsTableMobile_eventGridContainer__plV8P\")\n",
    "    # Extract data and store in a list\n",
    "    odds_data = []\n",
    "    for element in odds_elements:\n",
    "        # Extract the required information, e.g., team name, betting odds\n",
    "        # Again, this depends on the structure of the webpage\n",
    "        team_name = element.find('div', class_='team_name_class').text.strip()\n",
    "        betting_odds = element.find('div', class_='betting_odds_class').text.strip()\n",
    "\n",
    "        # Append to the list as a tuple or dictionary\n",
    "        odds_data.append((team_name, betting_odds))\n",
    "\n",
    "    # Create a Pandas DataFrame\n",
    "    df = pd.DataFrame(odds_data, columns=['Team', 'Odds'])\n",
    "\n",
    "    # Optionally, save the DataFrame to a CSV file\n",
    "    df.to_csv('nhl_betting_odds.csv', index=False)\n",
    "\n",
    "    print(\"Data scraped and saved successfully.\")\n",
    "else:\n",
    "    print(\"Failed to retrieve data. Status code:\", response.status_code)"
   ]
  },
  {
   "cell_type": "code",
   "execution_count": 5,
   "metadata": {},
   "outputs": [
    {
     "name": "stdout",
     "output_type": "stream",
     "text": [
      "Data scraped and saved successfully.\n",
      "Empty DataFrame\n",
      "Columns: [Away Team]\n",
      "Index: []\n"
     ]
    }
   ],
   "source": [
    "import requests\n",
    "from bs4 import BeautifulSoup\n",
    "import pandas as pd\n",
    "\n",
    "# URL of the website\n",
    "url = \"https://www.sportsbookreview.com/betting-odds/nhl-hockey/\"\n",
    "\n",
    "# Send a GET request\n",
    "response = requests.get(url)\n",
    "\n",
    "# Check if the request was successful\n",
    "if response.status_code == 200:\n",
    "    # Parse the HTML content\n",
    "    soup = BeautifulSoup(response.content, 'html.parser')\n",
    "\n",
    "    # Find all divs where class contains 'AwayTeam'\n",
    "    away_team_elements = soup.find_all(lambda tag: tag.name == 'div' and 'AwayTeam' in tag.get('class', []))\n",
    "\n",
    "    # Extract data and store in a list\n",
    "    away_teams_data = []\n",
    "    for element in away_team_elements:\n",
    "        # Extract the required information\n",
    "        # For example, you might want to extract the team name and some other details\n",
    "        team_name = element.text.strip()  # Or any other method to extract the name\n",
    "\n",
    "        # Append to the list as a tuple or dictionary\n",
    "        away_teams_data.append(team_name)\n",
    "\n",
    "    # Create a Pandas DataFrame\n",
    "    df = pd.DataFrame(away_teams_data, columns=['Away Team'])\n",
    "\n",
    "    # Optionally, save the DataFrame to a CSV file\n",
    "    df.to_csv('away_teams.csv', index=False)\n",
    "\n",
    "    print(\"Data scraped and saved successfully.\")\n",
    "    print(df.head())  # Display the first few rows of the DataFrame\n",
    "else:\n",
    "    print(\"Failed to retrieve data. Status code:\", response.status_code)"
   ]
  },
  {
   "cell_type": "code",
   "execution_count": 8,
   "metadata": {},
   "outputs": [
    {
     "name": "stdout",
     "output_type": "stream",
     "text": [
      "Empty DataFrame\n",
      "Columns: []\n",
      "Index: []\n"
     ]
    }
   ],
   "source": [
    "from bs4 import BeautifulSoup\n",
    "import pandas as pd\n",
    "\n",
    "# URL of the website\n",
    "url = \"https://www.sportsbookreview.com/betting-odds/nhl-hockey/\"\n",
    "\n",
    "# Send a GET request\n",
    "response = requests.get(url)\n",
    "\n",
    "# Parse the HTML content\n",
    "soup = BeautifulSoup(response.content, 'html.parser')\n",
    "\n",
    "# Find all event grid containers\n",
    "event_grid_containers = soup.find_all('div', class_='OddsTableMobile_eventGridContainer__plV8P')\n",
    "\n",
    "# List to store the data\n",
    "odds_data = []\n",
    "\n",
    "for container in event_grid_containers:\n",
    "    # Extract team names\n",
    "    teams = container.find_all('div', class_='OddsTableMobile_participantData__vyNNx')\n",
    "    if len(teams) < 2:\n",
    "        continue  # Skip if there are not enough team elements\n",
    "\n",
    "    away_team = teams[0].get_text(strip=True)\n",
    "    home_team = teams[1].get_text(strip=True)\n",
    "\n",
    "    # Extract corresponding odds\n",
    "    odds_elements = container.find_all('div', class_='OddsTableMobile_odds__thxLF')\n",
    "    if len(odds_elements) < 2:\n",
    "        continue  # Skip if there are not enough odds elements\n",
    "\n",
    "    away_odds = odds_elements[0].get_text(strip=True)\n",
    "    home_odds = odds_elements[1].get_text(strip=True)\n",
    "\n",
    "    # Append the extracted data\n",
    "    odds_data.append({'Away Team': away_team, 'Home Team': home_team, 'Away Odds': away_odds, 'Home Odds': home_odds})\n",
    "\n",
    "# Create a DataFrame\n",
    "df = pd.DataFrame(odds_data)\n",
    "\n",
    "# Display the DataFrame\n",
    "print(df)"
   ]
  }
 ],
 "metadata": {
  "kernelspec": {
   "display_name": "Python 3",
   "language": "python",
   "name": "python3"
  },
  "language_info": {
   "codemirror_mode": {
    "name": "ipython",
    "version": 3
   },
   "file_extension": ".py",
   "mimetype": "text/x-python",
   "name": "python",
   "nbconvert_exporter": "python",
   "pygments_lexer": "ipython3",
   "version": "3.11.7"
  }
 },
 "nbformat": 4,
 "nbformat_minor": 2
}
