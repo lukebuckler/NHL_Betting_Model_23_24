{
 "cells": [
  {
   "cell_type": "code",
   "execution_count": 30,
   "metadata": {},
   "outputs": [
    {
     "name": "stdout",
     "output_type": "stream",
     "text": [
      "2023-12-06\n"
     ]
    }
   ],
   "source": [
    "#from the schedule in the file '23_24_schedule' create a dataframe that has all of the games for the current day\n",
    "import os\n",
    "import pandas as pd\n",
    "import datetime\n",
    "\n",
    "current_date = datetime.date.today()\n",
    "print(current_date)\n",
    "df = pd.read_csv('23_24_sched.csv')\n",
    "df['Date'] = pd.to_datetime(df['Date']).dt.date\n",
    "df2 = df[df['Date'] == current_date]\n",
    "td = df2[['Game','AwayTeam','HomeTeam']]\n",
    "td.head()\n",
    "td.to_csv(\"today.csv\", index=False)"
   ]
  },
  {
   "cell_type": "code",
   "execution_count": 33,
   "metadata": {},
   "outputs": [],
   "source": [
    "#do the rolling average average but in order to get the data for the last 10 games, we perform it wihtout  shifting by one to include the current games\n",
    "#then take the last row from each team's files and create a new file that has the most recent stats for every team so pull from if they play today\n",
    "import os\n",
    "import pandas as pd\n",
    "import datetime\n",
    "\n",
    "current_date = pd.Timestamp(datetime.date.today())\n",
    "\n",
    "def calculate_rolling_average(df, columns, window=10):\n",
    "    rolling_df = df[columns].rolling(window=window, min_periods=10).mean()\n",
    "    return rolling_df\n",
    "\n",
    "#Base path for the original data \n",
    "base_path = '23_24_Team'\n",
    "df4 = pd.DataFrame()\n",
    "# New top-level folder for averaged data\n",
    "average_data_path = '23_24_test'\n",
    "os.makedirs(average_data_path, exist_ok=True)\n",
    "# Iterate over each year's folder\n",
    "# Iterate over each team's CSV file\n",
    "for team_file in os.listdir(base_path):\n",
    "    if team_file.endswith('.csv'):\n",
    "        team_path = os.path.join(base_path, team_file)\n",
    "        # Read the CSV file\n",
    "        df = pd.read_csv(team_path)\n",
    "\n",
    "        # Select the desired columns and calculate the rolling averages\n",
    "        selected_columns = ['Game', 'Team', 'Date', 'AwayTeam', 'AwayScore', 'HomeTeam', 'HomeScore', 'HomeResult', 'days_of_rest']\n",
    "        other_columns = df.columns.difference(selected_columns)\n",
    "        rolling_df = calculate_rolling_average(df, other_columns)\n",
    "\n",
    "    \n",
    "        # Combine the selected columns with the rolling averages\n",
    "        combined_df = pd.concat([df[selected_columns], rolling_df], axis=1)\n",
    "        cols_to_drop = ['Game','AwayTeam', 'AwayScore', 'HomeTeam', 'HomeScore', 'HomeResult','days_of_rest']\n",
    "       \n",
    "    #drop other unneccesary columns\n",
    "        combined_df.drop(columns=cols_to_drop, inplace=True)\n",
    "        combined_df['Date'] = pd.to_datetime(combined_df['Date'])\n",
    "        combined_df['time_diff']=(current_date-combined_df['Date'])\n",
    "        combined_df['days_of_rest'] = combined_df['time_diff'].dt.days - 1\n",
    "        combined_df.drop('time_diff', axis=1, inplace=True)\n",
    "        combined_df.insert(1, 'days_of_rest', combined_df.pop('days_of_rest'))\n",
    "        last_row_df = combined_df.tail(1)\n",
    "        df4 = pd.concat([df4, last_row_df], ignore_index=True, axis=0)\n",
    "        # Save the new DataFrame as a CSV file in the year-specific folder under 'average_data'\n",
    "\n",
    "#df4.head()\n",
    "df4.to_csv('test.csv', index=False)"
   ]
  },
  {
   "cell_type": "code",
   "execution_count": 34,
   "metadata": {},
   "outputs": [],
   "source": [
    "#pull form the file we jsut created and the list of today's game and get the stats for the home and away teams with the prefixes added and save it to the \"todays_games.csv\"\n",
    "df_test = pd.read_csv('test.csv')\n",
    "df_today= pd.read_csv('today.csv')\n",
    "\n",
    "def add_prefix_to_columns(df, prefix):\n",
    "    df.columns = [prefix + col for col in df.columns]\n",
    "    return df\n",
    "\n",
    "def find_team_data_modified(team, df_test):\n",
    "    team_data = df_test[df_test['Team'] == team].drop(columns=['Team', 'Date'])\n",
    "    return team_data\n",
    "combined_data = []\n",
    "for index, row in df_today.iterrows():\n",
    "    game_info = row['Game']\n",
    "    away_team = row['AwayTeam']\n",
    "    home_team = row['HomeTeam']\n",
    "    away_team_data = add_prefix_to_columns(find_team_data_modified(away_team, df_test).copy(), 'a_')\n",
    "    home_team_data = add_prefix_to_columns(find_team_data_modified(home_team, df_test).copy(), 'h_')\n",
    "    if not away_team_data.empty:\n",
    "        away_team_data = away_team_data.iloc[0]\n",
    "    if not home_team_data.empty:\n",
    "        home_team_data = home_team_data.iloc[0]\n",
    "\n",
    "    combined_row = pd.concat([away_team_data, home_team_data])\n",
    "    combined_row['Game'] = game_info\n",
    "    combined_data.append(combined_row)\n",
    "df_combined_corrected = pd.DataFrame(combined_data)\n",
    "df_combined_corrected.to_csv('today_games.csv', index=False)"
   ]
  }
 ],
 "metadata": {
  "kernelspec": {
   "display_name": "Python 3",
   "language": "python",
   "name": "python3"
  },
  "language_info": {
   "codemirror_mode": {
    "name": "ipython",
    "version": 3
   },
   "file_extension": ".py",
   "mimetype": "text/x-python",
   "name": "python",
   "nbconvert_exporter": "python",
   "pygments_lexer": "ipython3",
   "version": "3.11.6"
  }
 },
 "nbformat": 4,
 "nbformat_minor": 2
}
